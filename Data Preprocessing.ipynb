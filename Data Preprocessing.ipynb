{
 "cells": [
  {
   "cell_type": "markdown",
   "metadata": {},
   "source": [
    "importing Libraries"
   ]
  },
  {
   "cell_type": "code",
   "execution_count": 84,
   "metadata": {},
   "outputs": [],
   "source": [
    "import numpy as np\n",
    "import pandas as pd\n",
    "import seaborn as sns\n",
    "import matplotlib.pyplot as plt\n",
    "from scipy import stats\n",
    "import sklearn\n",
    "# from sklearn import MinMaxScaler,StandardScaler\n",
    "import datetime \n",
    "import chardet\n",
    "import fuzzywuzzy   "
   ]
  },
  {
   "cell_type": "code",
   "execution_count": 26,
   "metadata": {},
   "outputs": [
    {
     "name": "stdout",
     "output_type": "stream",
     "text": [
      "All done\n",
      "{'encoding': None, 'confidence': 0.0, 'language': None}\n"
     ]
    }
   ],
   "source": [
    "with open(r\"C:\\Users\\ravee\\Downloads\\Datsets\\salesworkload.xlsx\",'rb') as file:\n",
    "    file_name = file.read(10000)\n",
    "    print(\"All done\")\n",
    "    print(chardet.detect(file_name))\n",
    "    "
   ]
  },
  {
   "cell_type": "markdown",
   "metadata": {},
   "source": [
    "    Check the type of encoding"
   ]
  },
  {
   "cell_type": "markdown",
   "metadata": {},
   "source": [
    "Open file with proper encoder and create dataframe"
   ]
  },
  {
   "cell_type": "code",
   "execution_count": 32,
   "metadata": {},
   "outputs": [
    {
     "data": {
      "text/plain": [
       "Index(['MonthYear', 'Time index', 'Country', 'StoreID', 'City', 'Dept_ID',\n",
       "       'Dept. Name', 'HoursOwn', 'HoursLease', 'Sales units', 'Turnover',\n",
       "       'Customer', 'Area (m2)', 'Opening hours'],\n",
       "      dtype='object')"
      ]
     },
     "execution_count": 32,
     "metadata": {},
     "output_type": "execute_result"
    }
   ],
   "source": [
    "df = pd.read_excel(r\"C:\\Users\\ravee\\Downloads\\Datsets\\salesworkload.xlsx\",header=1)\n",
    "df.columns"
   ]
  },
  {
   "cell_type": "markdown",
   "metadata": {},
   "source": [
    "1.Check the dataframe shape and properties\n",
    "2.Create copy of dataframe"
   ]
  },
  {
   "cell_type": "code",
   "execution_count": 35,
   "metadata": {},
   "outputs": [
    {
     "data": {
      "text/plain": [
       "<bound method NDFrame.describe of      MonthYear  Time index         Country  StoreID        City  Dept_ID  \\\n",
       "0      10.2016         1.0  United Kingdom  88253.0  London (I)      1.0   \n",
       "1      10.2016         1.0  United Kingdom  88253.0  London (I)      2.0   \n",
       "2      10.2016         1.0  United Kingdom  88253.0  London (I)      3.0   \n",
       "3      10.2016         1.0  United Kingdom  88253.0  London (I)      4.0   \n",
       "4      10.2016         1.0  United Kingdom  88253.0  London (I)      5.0   \n",
       "...        ...         ...             ...      ...         ...      ...   \n",
       "7653   06.2017         9.0          Sweden  29650.0  Gothenburg     12.0   \n",
       "7654   06.2017         9.0          Sweden  29650.0  Gothenburg     16.0   \n",
       "7655   06.2017         9.0          Sweden  29650.0  Gothenburg     11.0   \n",
       "7656   06.2017         9.0          Sweden  29650.0  Gothenburg     17.0   \n",
       "7657   06.2017         9.0          Sweden  29650.0  Gothenburg     18.0   \n",
       "\n",
       "               Dept. Name  HoursOwn  HoursLease  Sales units    Turnover  \\\n",
       "0                     Dry  3184.764         0.0     398560.0   1226244.0   \n",
       "1                  Frozen  1582.941         0.0      82725.0    387810.0   \n",
       "2                   other    47.205         0.0     438400.0    654657.0   \n",
       "3                    Fish  1623.852         0.0     309425.0    499434.0   \n",
       "4     Fruits & Vegetables  1759.173         0.0     165515.0    329397.0   \n",
       "...                   ...       ...         ...          ...         ...   \n",
       "7653             Checkout  6322.323         0.0    3886530.0  14538825.0   \n",
       "7654    Customer Services  4270.479         0.0        245.0         0.0   \n",
       "7655             Delivery         0         0.0          0.0         0.0   \n",
       "7656               others  2224.929         0.0        245.0         0.0   \n",
       "7657                  all   39652.2         0.0    3886530.0  15056214.0   \n",
       "\n",
       "      Customer Area (m2) Opening hours  \n",
       "0          NaN    953.04        Type A  \n",
       "1          NaN    720.48        Type A  \n",
       "2          NaN    966.72        Type A  \n",
       "3          NaN   1053.36        Type A  \n",
       "4          NaN   1053.36        Type A  \n",
       "...        ...       ...           ...  \n",
       "7653       NaN       #NV        Type A  \n",
       "7654       NaN       #NV        Type A  \n",
       "7655       NaN       #NV        Type A  \n",
       "7656       NaN       #NV        Type A  \n",
       "7657       NaN       #NV        Type A  \n",
       "\n",
       "[7658 rows x 14 columns]>"
      ]
     },
     "execution_count": 35,
     "metadata": {},
     "output_type": "execute_result"
    }
   ],
   "source": [
    "df.describe\n",
    "\n",
    "# sales = df.copy()"
   ]
  },
  {
   "cell_type": "markdown",
   "metadata": {},
   "source": [
    "Checking and handling missing datas"
   ]
  },
  {
   "cell_type": "code",
   "execution_count": 50,
   "metadata": {},
   "outputs": [
    {
     "data": {
      "text/plain": [
       "MonthYear        0\n",
       "Time index       0\n",
       "Country          0\n",
       "StoreID          0\n",
       "City             0\n",
       "Dept_ID          0\n",
       "Dept. Name       0\n",
       "HoursOwn         0\n",
       "HoursLease       0\n",
       "Sales units      0\n",
       "Turnover         0\n",
       "Area (m2)        0\n",
       "Opening hours    0\n",
       "dtype: int64"
      ]
     },
     "execution_count": 50,
     "metadata": {},
     "output_type": "execute_result"
    }
   ],
   "source": [
    "sales.isnull().sum()\n",
    "\n",
    "# sales=sales.drop(\"Customer\",axis=1)\n",
    "# sales.sample(10)\n",
    "# null_rows = sales[sales.isnull().any(axis=1)]\n",
    "# print(null_rows)\n",
    "sales = sales.dropna()\n"
   ]
  },
  {
   "cell_type": "markdown",
   "metadata": {},
   "source": [
    "Check for duplicates and handle them"
   ]
  },
  {
   "cell_type": "code",
   "execution_count": 52,
   "metadata": {},
   "outputs": [
    {
     "data": {
      "text/plain": [
       "0"
      ]
     },
     "execution_count": 52,
     "metadata": {},
     "output_type": "execute_result"
    }
   ],
   "source": [
    "sales.duplicated().sum()"
   ]
  },
  {
   "cell_type": "markdown",
   "metadata": {},
   "source": [
    "Parse date to required format and add 2 columns for month and year"
   ]
  },
  {
   "cell_type": "code",
   "execution_count": 90,
   "metadata": {},
   "outputs": [
    {
     "data": {
      "text/plain": [
       "0       October\n",
       "1       October\n",
       "2       October\n",
       "3       October\n",
       "4       October\n",
       "         ...   \n",
       "7653       June\n",
       "7654       June\n",
       "7655       June\n",
       "7656       June\n",
       "7657       June\n",
       "Name: Month, Length: 7650, dtype: object"
      ]
     },
     "execution_count": 90,
     "metadata": {},
     "output_type": "execute_result"
    }
   ],
   "source": [
    "# sales[\"MonthYear\"] = pd.to_datetime(sales[\"MonthYear\"],format = '%m.%Y')\n",
    "# sales.MonthYear\n",
    "sales[\"Month\"]=sales[\"MonthYear\"].dt.strftime(\"%B\")\n",
    "# sales[\"Year\"]=sales[\"MonthYear\"].dt.year\n",
    "sales.Month\n",
    "\n",
    "\n"
   ]
  }
 ],
 "metadata": {
  "kernelspec": {
   "display_name": "Python 3",
   "language": "python",
   "name": "python3"
  },
  "language_info": {
   "codemirror_mode": {
    "name": "ipython",
    "version": 3
   },
   "file_extension": ".py",
   "mimetype": "text/x-python",
   "name": "python",
   "nbconvert_exporter": "python",
   "pygments_lexer": "ipython3",
   "version": "3.11.5"
  },
  "orig_nbformat": 4
 },
 "nbformat": 4,
 "nbformat_minor": 2
}
