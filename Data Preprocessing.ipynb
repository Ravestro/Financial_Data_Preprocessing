{
 "cells": [
  {
   "cell_type": "markdown",
   "metadata": {},
   "source": [
    "importing Libraries"
   ]
  },
  {
   "cell_type": "code",
   "execution_count": 160,
   "metadata": {},
   "outputs": [],
   "source": [
    "import numpy as np\n",
    "import pandas as pd\n",
    "import seaborn as sns\n",
    "import matplotlib.pyplot as plt\n",
    "from scipy import stats\n",
    "import sklearn\n",
    "from sklearn.preprocessing import MinMaxScaler,StandardScaler\n",
    "import datetime \n",
    "import chardet\n",
    "import fuzzywuzzy   \n",
    "from fuzzywuzzy import process"
   ]
  },
  {
   "cell_type": "code",
   "execution_count": 26,
   "metadata": {},
   "outputs": [
    {
     "name": "stdout",
     "output_type": "stream",
     "text": [
      "All done\n",
      "{'encoding': None, 'confidence': 0.0, 'language': None}\n"
     ]
    }
   ],
   "source": [
    "with open(r\"C:\\Users\\ravee\\Downloads\\Datsets\\salesworkload.xlsx\",'rb') as file:\n",
    "    file_name = file.read(10000)\n",
    "    print(\"All done\")\n",
    "    print(chardet.detect(file_name))\n",
    "    "
   ]
  },
  {
   "cell_type": "markdown",
   "metadata": {},
   "source": [
    "    Check the type of encoding"
   ]
  },
  {
   "cell_type": "markdown",
   "metadata": {},
   "source": [
    "Open file with proper encoder and create dataframe"
   ]
  },
  {
   "cell_type": "code",
   "execution_count": 32,
   "metadata": {},
   "outputs": [
    {
     "data": {
      "text/plain": [
       "Index(['MonthYear', 'Time index', 'Country', 'StoreID', 'City', 'Dept_ID',\n",
       "       'Dept. Name', 'HoursOwn', 'HoursLease', 'Sales units', 'Turnover',\n",
       "       'Customer', 'Area (m2)', 'Opening hours'],\n",
       "      dtype='object')"
      ]
     },
     "execution_count": 32,
     "metadata": {},
     "output_type": "execute_result"
    }
   ],
   "source": [
    "df = pd.read_excel(r\"C:\\Users\\ravee\\Downloads\\Datsets\\salesworkload.xlsx\",header=1)\n",
    "df.columns"
   ]
  },
  {
   "cell_type": "markdown",
   "metadata": {},
   "source": [
    "1.Check the dataframe shape and properties\n",
    "2.Create copy of dataframe"
   ]
  },
  {
   "cell_type": "code",
   "execution_count": 35,
   "metadata": {},
   "outputs": [
    {
     "data": {
      "text/plain": [
       "<bound method NDFrame.describe of      MonthYear  Time index         Country  StoreID        City  Dept_ID  \\\n",
       "0      10.2016         1.0  United Kingdom  88253.0  London (I)      1.0   \n",
       "1      10.2016         1.0  United Kingdom  88253.0  London (I)      2.0   \n",
       "2      10.2016         1.0  United Kingdom  88253.0  London (I)      3.0   \n",
       "3      10.2016         1.0  United Kingdom  88253.0  London (I)      4.0   \n",
       "4      10.2016         1.0  United Kingdom  88253.0  London (I)      5.0   \n",
       "...        ...         ...             ...      ...         ...      ...   \n",
       "7653   06.2017         9.0          Sweden  29650.0  Gothenburg     12.0   \n",
       "7654   06.2017         9.0          Sweden  29650.0  Gothenburg     16.0   \n",
       "7655   06.2017         9.0          Sweden  29650.0  Gothenburg     11.0   \n",
       "7656   06.2017         9.0          Sweden  29650.0  Gothenburg     17.0   \n",
       "7657   06.2017         9.0          Sweden  29650.0  Gothenburg     18.0   \n",
       "\n",
       "               Dept. Name  HoursOwn  HoursLease  Sales units    Turnover  \\\n",
       "0                     Dry  3184.764         0.0     398560.0   1226244.0   \n",
       "1                  Frozen  1582.941         0.0      82725.0    387810.0   \n",
       "2                   other    47.205         0.0     438400.0    654657.0   \n",
       "3                    Fish  1623.852         0.0     309425.0    499434.0   \n",
       "4     Fruits & Vegetables  1759.173         0.0     165515.0    329397.0   \n",
       "...                   ...       ...         ...          ...         ...   \n",
       "7653             Checkout  6322.323         0.0    3886530.0  14538825.0   \n",
       "7654    Customer Services  4270.479         0.0        245.0         0.0   \n",
       "7655             Delivery         0         0.0          0.0         0.0   \n",
       "7656               others  2224.929         0.0        245.0         0.0   \n",
       "7657                  all   39652.2         0.0    3886530.0  15056214.0   \n",
       "\n",
       "      Customer Area (m2) Opening hours  \n",
       "0          NaN    953.04        Type A  \n",
       "1          NaN    720.48        Type A  \n",
       "2          NaN    966.72        Type A  \n",
       "3          NaN   1053.36        Type A  \n",
       "4          NaN   1053.36        Type A  \n",
       "...        ...       ...           ...  \n",
       "7653       NaN       #NV        Type A  \n",
       "7654       NaN       #NV        Type A  \n",
       "7655       NaN       #NV        Type A  \n",
       "7656       NaN       #NV        Type A  \n",
       "7657       NaN       #NV        Type A  \n",
       "\n",
       "[7658 rows x 14 columns]>"
      ]
     },
     "execution_count": 35,
     "metadata": {},
     "output_type": "execute_result"
    }
   ],
   "source": [
    "df.describe\n",
    "\n",
    "# sales = df.copy()"
   ]
  },
  {
   "cell_type": "markdown",
   "metadata": {},
   "source": [
    "Checking and handling missing datas"
   ]
  },
  {
   "cell_type": "code",
   "execution_count": 50,
   "metadata": {},
   "outputs": [
    {
     "data": {
      "text/plain": [
       "MonthYear        0\n",
       "Time index       0\n",
       "Country          0\n",
       "StoreID          0\n",
       "City             0\n",
       "Dept_ID          0\n",
       "Dept. Name       0\n",
       "HoursOwn         0\n",
       "HoursLease       0\n",
       "Sales units      0\n",
       "Turnover         0\n",
       "Area (m2)        0\n",
       "Opening hours    0\n",
       "dtype: int64"
      ]
     },
     "execution_count": 50,
     "metadata": {},
     "output_type": "execute_result"
    }
   ],
   "source": [
    "sales.isnull().sum()\n",
    "\n",
    "# sales=sales.drop(\"Customer\",axis=1)\n",
    "# sales.sample(10)\n",
    "# null_rows = sales[sales.isnull().any(axis=1)]\n",
    "# print(null_rows)\n",
    "sales = sales.dropna()\n"
   ]
  },
  {
   "cell_type": "markdown",
   "metadata": {},
   "source": [
    "Check for duplicates and handle them"
   ]
  },
  {
   "cell_type": "code",
   "execution_count": 52,
   "metadata": {},
   "outputs": [
    {
     "data": {
      "text/plain": [
       "0"
      ]
     },
     "execution_count": 52,
     "metadata": {},
     "output_type": "execute_result"
    }
   ],
   "source": [
    "sales.duplicated().sum()"
   ]
  },
  {
   "cell_type": "markdown",
   "metadata": {},
   "source": [
    "Parse date to required format and add 2 columns for month and year"
   ]
  },
  {
   "cell_type": "code",
   "execution_count": 90,
   "metadata": {},
   "outputs": [
    {
     "data": {
      "text/plain": [
       "0       October\n",
       "1       October\n",
       "2       October\n",
       "3       October\n",
       "4       October\n",
       "         ...   \n",
       "7653       June\n",
       "7654       June\n",
       "7655       June\n",
       "7656       June\n",
       "7657       June\n",
       "Name: Month, Length: 7650, dtype: object"
      ]
     },
     "execution_count": 90,
     "metadata": {},
     "output_type": "execute_result"
    }
   ],
   "source": [
    "# sales[\"MonthYear\"] = pd.to_datetime(sales[\"MonthYear\"],format = '%m.%Y')\n",
    "# sales.MonthYear\n",
    "sales[\"Month\"]=sales[\"MonthYear\"].dt.strftime(\"%B\")\n",
    "# sales[\"Year\"]=sales[\"MonthYear\"].dt.year\n",
    "sales.Month\n",
    "\n",
    "\n"
   ]
  },
  {
   "cell_type": "markdown",
   "metadata": {},
   "source": [
    "Outlier detection and handling\n"
   ]
  },
  {
   "cell_type": "code",
   "execution_count": 121,
   "metadata": {},
   "outputs": [
    {
     "data": {
      "text/plain": [
       "<Axes: >"
      ]
     },
     "execution_count": 121,
     "metadata": {},
     "output_type": "execute_result"
    },
    {
     "data": {
      "image/png": "[encoded data removed]",
      "text/plain": [
       "<Figure size 640x480 with 1 Axes>"
      ]
     },
     "metadata": {},
     "output_type": "display_data"
    }
   ],
   "source": [
    "def outlier_detection(dfs,column):\n",
    "    i25,i75 = np.quantile(dfs[column],[0.25,0.75])\n",
    "    iqr = i75-i25\n",
    "    cutoff = 1.5*iqr\n",
    "    lower,higher = i25-cutoff,i75+cutoff\n",
    "    outliers = dfs[(dfs[column]<lower)| (dfs[column]>higher)]\n",
    "    print(max(outliers[column]))\n",
    "\n",
    "sales.boxplot()\n",
    "# plt.scatterplot(sales[\"Turnover\"])\n",
    "# outlier_detection(sales,\"Turnover\")\n",
    "# sales = sales[sales[\"Turnover\"]!=42717390.0]\n",
    "\n",
    "# sales.shape\n"
   ]
  },
  {
   "cell_type": "markdown",
   "metadata": {},
   "source": [
    "Check any inconsistencies in data"
   ]
  },
  {
   "cell_type": "code",
   "execution_count": 142,
   "metadata": {},
   "outputs": [
    {
     "name": "stdout",
     "output_type": "stream",
     "text": [
      "['Admin', 'Checkout', 'Clothing', 'Customer Services', 'Delivery', 'Dry', 'Fish', 'Food', 'Frozen', 'Fruits & Vegetables', 'Hardware', 'Household', 'Meat', 'Non Food', 'all', 'others']\n"
     ]
    }
   ],
   "source": [
    "unique = sorted(sales[\"Dept. Name\"].unique())\n",
    "print(unique)\n",
    "# matches = fuzzywuzzy.process.extract(\"United Kingdom\",unique,limit = 5,scorer = fuzzywuzzy.fuzz.token_sort_ratio)\n",
    "# print(matches)\n",
    "\n",
    "# def replace_matches(df1,column,string_to_match,min_ratio = 90):\n",
    "#     unique = df1[column].unique()\n",
    "#     matches = fuzzywuzzy.process.extract(string_to_match,unique,limit=10,scorer=fuzzywuzzy.fuzz.token_sort_ratio)\n",
    "#     matching_matches = [matches[0] for matches in matches if matches[1]>=min_ratio]\n",
    "#     matching_rows = df1[column].isin(matching_matches)\n",
    "#     df1.loc[matching_rows,column] = string_to_match\n",
    "#     print(\"Completed\")\n",
    "# replace_matches(df1=sales,column = \"Dept. Name\",string_to_match = \"others\")\n",
    "\n",
    "# sales[\"City\"] = sales[\"City\"].str.split(n=1).str[0]"
   ]
  },
  {
   "cell_type": "markdown",
   "metadata": {},
   "source": [
    "Find out the rows to be Normalized and normalize it"
   ]
  },
  {
   "cell_type": "code",
   "execution_count": 219,
   "metadata": {},
   "outputs": [
    {
     "name": "stdout",
     "output_type": "stream",
     "text": [
      "               Dept. Name  HoursOwn  HoursLease  Sales units  Turnover  \\\n",
      "6808                  Dry -0.622590         0.0    -0.425830  0.214809   \n",
      "6809               Frozen -0.623573         0.0    -0.583091 -0.394121   \n",
      "6810               others -0.624142         0.0    -0.358877 -0.255400   \n",
      "6811                 Fish -0.623478         0.0    -0.406581 -0.589262   \n",
      "6812  Fruits & Vegetables -0.623404         0.0    -0.508239 -0.599228   \n",
      "6813                 Meat -0.620220         0.0     0.427786  2.653660   \n",
      "6814                 Food -0.616561         0.0     1.266014  5.018048   \n",
      "6815             Clothing -0.621914         0.0    -0.519390  0.349063   \n",
      "6816            Household -0.623304         0.0    -0.590892 -0.360009   \n",
      "6817             Hardware -0.623042         0.0    -0.584230 -0.351077   \n",
      "6818             Non Food -0.619922         0.0    -0.446174  0.836494   \n",
      "6819                Admin -0.622248         0.0    -0.624169 -0.624169   \n",
      "6820             Checkout -0.621277         0.0     1.444008  6.561520   \n",
      "6821    Customer Services -0.622418         0.0    -0.624169 -0.624169   \n",
      "6822             Delivery -0.624169         0.0    -0.624169 -0.624169   \n",
      "6823               others -0.623130         0.0    -0.624169 -0.624169   \n",
      "6824                  all -0.604711         0.0     1.444008  5.838745   \n",
      "6825                  Dry -0.623161         0.0    -0.227627  1.020954   \n",
      "\n",
      "     Area (m2) Opening hours  \n",
      "6808       #NV        Type A  \n",
      "6809       #NV        Type A  \n",
      "6810       #NV        Type A  \n",
      "6811       #NV        Type A  \n",
      "6812       #NV        Type A  \n",
      "6813       #NV        Type A  \n",
      "6814       #NV        Type A  \n",
      "6815       #NV        Type A  \n",
      "6816       #NV        Type A  \n",
      "6817       #NV        Type A  \n",
      "6818       #NV        Type A  \n",
      "6819       #NV        Type A  \n",
      "6820       #NV        Type A  \n",
      "6821       #NV        Type A  \n",
      "6822       #NV        Type A  \n",
      "6823       #NV        Type A  \n",
      "6824       #NV        Type A  \n",
      "6825       #NV        Type A  \n"
     ]
    }
   ],
   "source": [
    "# sales.head()\n",
    "# sns.distplot(sales[\"Sales units\"])\n",
    "# stand_scaler = StandardScaler()\n",
    "# sales[\"Turnover\"] = stand_scaler.fit_transform(sales[\"Turnover\"].values.reshape(1,-1))\n",
    "# sales[\"Sales units\"] = stand_scaler.fit_transform(sales[\"Sales units\"].values.reshape(-1,1))\n",
    "\n",
    "\n",
    "# sales[\"HoursOwn\"] = stand_scaler.transform(sales[\"HoursOwn\"].values.reshape(-1,1))\n",
    "\n",
    "# string_row = sales[~sales[\"HoursOwn\"].apply(lambda x: isinstance(x,(int,float)))]\n",
    "# print (string_row)\n",
    "# sales = sales.drop(sales.isin(string_row))\n",
    "# sales = sales[~sales.isin(string_row)]\n",
    "\n",
    "\n",
    "# sales[\"Area (m2)\"] = stand_scaler.transform(sales[\"Area (m2)\"].values.reshape(-1,1))\n",
    "# string_row = sales[~sales[\"Area (m2)\"].apply(lambda x: isinstance(x,(int,float)))]\n",
    "print (sales.loc[6808:6825,\"Dept. Name\":\"Opening hours\"])\n",
    "# df.columns\n",
    "\n",
    "\n",
    "# print (numeric_check)\n",
    "# print(sales.shape)\n",
    "\n"
   ]
  },
  {
   "cell_type": "markdown",
   "metadata": {},
   "source": [
    "Finished preprocessing"
   ]
  }
 ],
 "metadata": {
  "kernelspec": {
   "display_name": "Python 3",
   "language": "python",
   "name": "python3"
  },
  "language_info": {
   "codemirror_mode": {
    "name": "ipython",
    "version": 3
   },
   "file_extension": ".py",
   "mimetype": "text/x-python",
   "name": "python",
   "nbconvert_exporter": "python",
   "pygments_lexer": "ipython3",
   "version": "3.11.5"
  },
  "orig_nbformat": 4
 },
 "nbformat": 4,
 "nbformat_minor": 2
}
